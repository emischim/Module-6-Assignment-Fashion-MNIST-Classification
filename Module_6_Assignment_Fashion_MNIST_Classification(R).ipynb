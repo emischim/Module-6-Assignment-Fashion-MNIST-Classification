{
  "nbformat": 4,
  "nbformat_minor": 0,
  "metadata": {
    "colab": {
      "provenance": [],
      "gpuType": "T4"
    },
    "kernelspec": {
      "name": "ir",
      "display_name": "R"
    },
    "language_info": {
      "name": "R"
    },
    "accelerator": "GPU"
  },
  "cells": [
    {
      "cell_type": "markdown",
      "source": [
        "# **Loading the Dataset**"
      ],
      "metadata": {
        "id": "kW7xvUzudSM6"
      }
    },
    {
      "cell_type": "code",
      "source": [
        "# OPTIONAL. PLEASE, ONLY RUN IF \"INSTALL\" AND/OR \"LIBRARY\" FAILS\n",
        "#Switch to a Python Runtime and run this code to ensure tensorflow and keras are installed correctly.\n",
        "!pip install tensorflow\n",
        "!pip install keras"
      ],
      "metadata": {
        "id": "poZYevrqTWuO",
        "collapsed": true,
        "colab": {
          "base_uri": "https://localhost:8080/"
        },
        "outputId": "85b694bc-f04f-4ab5-f0af-514983dcb67f"
      },
      "execution_count": null,
      "outputs": [
        {
          "output_type": "stream",
          "name": "stdout",
          "text": [
            "Requirement already satisfied: tensorflow in /usr/local/lib/python3.10/dist-packages (2.17.0)\n",
            "Requirement already satisfied: absl-py>=1.0.0 in /usr/local/lib/python3.10/dist-packages (from tensorflow) (1.4.0)\n",
            "Requirement already satisfied: astunparse>=1.6.0 in /usr/local/lib/python3.10/dist-packages (from tensorflow) (1.6.3)\n",
            "Requirement already satisfied: flatbuffers>=24.3.25 in /usr/local/lib/python3.10/dist-packages (from tensorflow) (24.3.25)\n",
            "Requirement already satisfied: gast!=0.5.0,!=0.5.1,!=0.5.2,>=0.2.1 in /usr/local/lib/python3.10/dist-packages (from tensorflow) (0.6.0)\n",
            "Requirement already satisfied: google-pasta>=0.1.1 in /usr/local/lib/python3.10/dist-packages (from tensorflow) (0.2.0)\n",
            "Requirement already satisfied: h5py>=3.10.0 in /usr/local/lib/python3.10/dist-packages (from tensorflow) (3.11.0)\n",
            "Requirement already satisfied: libclang>=13.0.0 in /usr/local/lib/python3.10/dist-packages (from tensorflow) (18.1.1)\n",
            "Requirement already satisfied: ml-dtypes<0.5.0,>=0.3.1 in /usr/local/lib/python3.10/dist-packages (from tensorflow) (0.4.0)\n",
            "Requirement already satisfied: opt-einsum>=2.3.2 in /usr/local/lib/python3.10/dist-packages (from tensorflow) (3.3.0)\n",
            "Requirement already satisfied: packaging in /usr/local/lib/python3.10/dist-packages (from tensorflow) (24.1)\n",
            "Requirement already satisfied: protobuf!=4.21.0,!=4.21.1,!=4.21.2,!=4.21.3,!=4.21.4,!=4.21.5,<5.0.0dev,>=3.20.3 in /usr/local/lib/python3.10/dist-packages (from tensorflow) (3.20.3)\n",
            "Requirement already satisfied: requests<3,>=2.21.0 in /usr/local/lib/python3.10/dist-packages (from tensorflow) (2.32.3)\n",
            "Requirement already satisfied: setuptools in /usr/local/lib/python3.10/dist-packages (from tensorflow) (71.0.4)\n",
            "Requirement already satisfied: six>=1.12.0 in /usr/local/lib/python3.10/dist-packages (from tensorflow) (1.16.0)\n",
            "Requirement already satisfied: termcolor>=1.1.0 in /usr/local/lib/python3.10/dist-packages (from tensorflow) (2.4.0)\n",
            "Requirement already satisfied: typing-extensions>=3.6.6 in /usr/local/lib/python3.10/dist-packages (from tensorflow) (4.12.2)\n",
            "Requirement already satisfied: wrapt>=1.11.0 in /usr/local/lib/python3.10/dist-packages (from tensorflow) (1.16.0)\n",
            "Requirement already satisfied: grpcio<2.0,>=1.24.3 in /usr/local/lib/python3.10/dist-packages (from tensorflow) (1.64.1)\n",
            "Requirement already satisfied: tensorboard<2.18,>=2.17 in /usr/local/lib/python3.10/dist-packages (from tensorflow) (2.17.0)\n",
            "Requirement already satisfied: keras>=3.2.0 in /usr/local/lib/python3.10/dist-packages (from tensorflow) (3.4.1)\n",
            "Requirement already satisfied: tensorflow-io-gcs-filesystem>=0.23.1 in /usr/local/lib/python3.10/dist-packages (from tensorflow) (0.37.1)\n",
            "Requirement already satisfied: numpy<2.0.0,>=1.23.5 in /usr/local/lib/python3.10/dist-packages (from tensorflow) (1.26.4)\n",
            "Requirement already satisfied: wheel<1.0,>=0.23.0 in /usr/local/lib/python3.10/dist-packages (from astunparse>=1.6.0->tensorflow) (0.44.0)\n",
            "Requirement already satisfied: rich in /usr/local/lib/python3.10/dist-packages (from keras>=3.2.0->tensorflow) (13.8.1)\n",
            "Requirement already satisfied: namex in /usr/local/lib/python3.10/dist-packages (from keras>=3.2.0->tensorflow) (0.0.8)\n",
            "Requirement already satisfied: optree in /usr/local/lib/python3.10/dist-packages (from keras>=3.2.0->tensorflow) (0.12.1)\n",
            "Requirement already satisfied: charset-normalizer<4,>=2 in /usr/local/lib/python3.10/dist-packages (from requests<3,>=2.21.0->tensorflow) (3.3.2)\n",
            "Requirement already satisfied: idna<4,>=2.5 in /usr/local/lib/python3.10/dist-packages (from requests<3,>=2.21.0->tensorflow) (3.8)\n",
            "Requirement already satisfied: urllib3<3,>=1.21.1 in /usr/local/lib/python3.10/dist-packages (from requests<3,>=2.21.0->tensorflow) (2.0.7)\n",
            "Requirement already satisfied: certifi>=2017.4.17 in /usr/local/lib/python3.10/dist-packages (from requests<3,>=2.21.0->tensorflow) (2024.8.30)\n",
            "Requirement already satisfied: markdown>=2.6.8 in /usr/local/lib/python3.10/dist-packages (from tensorboard<2.18,>=2.17->tensorflow) (3.7)\n",
            "Requirement already satisfied: tensorboard-data-server<0.8.0,>=0.7.0 in /usr/local/lib/python3.10/dist-packages (from tensorboard<2.18,>=2.17->tensorflow) (0.7.2)\n",
            "Requirement already satisfied: werkzeug>=1.0.1 in /usr/local/lib/python3.10/dist-packages (from tensorboard<2.18,>=2.17->tensorflow) (3.0.4)\n",
            "Requirement already satisfied: MarkupSafe>=2.1.1 in /usr/local/lib/python3.10/dist-packages (from werkzeug>=1.0.1->tensorboard<2.18,>=2.17->tensorflow) (2.1.5)\n",
            "Requirement already satisfied: markdown-it-py>=2.2.0 in /usr/local/lib/python3.10/dist-packages (from rich->keras>=3.2.0->tensorflow) (3.0.0)\n",
            "Requirement already satisfied: pygments<3.0.0,>=2.13.0 in /usr/local/lib/python3.10/dist-packages (from rich->keras>=3.2.0->tensorflow) (2.16.1)\n",
            "Requirement already satisfied: mdurl~=0.1 in /usr/local/lib/python3.10/dist-packages (from markdown-it-py>=2.2.0->rich->keras>=3.2.0->tensorflow) (0.1.2)\n",
            "Requirement already satisfied: keras in /usr/local/lib/python3.10/dist-packages (3.4.1)\n",
            "Requirement already satisfied: absl-py in /usr/local/lib/python3.10/dist-packages (from keras) (1.4.0)\n",
            "Requirement already satisfied: numpy in /usr/local/lib/python3.10/dist-packages (from keras) (1.26.4)\n",
            "Requirement already satisfied: rich in /usr/local/lib/python3.10/dist-packages (from keras) (13.8.1)\n",
            "Requirement already satisfied: namex in /usr/local/lib/python3.10/dist-packages (from keras) (0.0.8)\n",
            "Requirement already satisfied: h5py in /usr/local/lib/python3.10/dist-packages (from keras) (3.11.0)\n",
            "Requirement already satisfied: optree in /usr/local/lib/python3.10/dist-packages (from keras) (0.12.1)\n",
            "Requirement already satisfied: ml-dtypes in /usr/local/lib/python3.10/dist-packages (from keras) (0.4.0)\n",
            "Requirement already satisfied: packaging in /usr/local/lib/python3.10/dist-packages (from keras) (24.1)\n",
            "Requirement already satisfied: typing-extensions>=4.5.0 in /usr/local/lib/python3.10/dist-packages (from optree->keras) (4.12.2)\n",
            "Requirement already satisfied: markdown-it-py>=2.2.0 in /usr/local/lib/python3.10/dist-packages (from rich->keras) (3.0.0)\n",
            "Requirement already satisfied: pygments<3.0.0,>=2.13.0 in /usr/local/lib/python3.10/dist-packages (from rich->keras) (2.16.1)\n",
            "Requirement already satisfied: mdurl~=0.1 in /usr/local/lib/python3.10/dist-packages (from markdown-it-py>=2.2.0->rich->keras) (0.1.2)\n"
          ]
        }
      ]
    },
    {
      "cell_type": "markdown",
      "source": [
        "# **If you already have them installed, please switch to a T4 GPU R Runtime proceed to the other cells**"
      ],
      "metadata": {
        "id": "y_QSgD6MQW3C"
      }
    },
    {
      "cell_type": "code",
      "source": [
        "install.packages(\"reticulate\")\n",
        "install.packages(\"tensorflow\")\n",
        "install.packages(\"keras3\")\n",
        "install.packages(\"gridExtra\")\n",
        "library(gridExtra)\n",
        "library(grid)\n",
        "library(tensorflow)\n",
        "library(keras3)\n",
        "library(reticulate)"
      ],
      "metadata": {
        "colab": {
          "base_uri": "https://localhost:8080/"
        },
        "id": "M9czEFGFJ7h3",
        "outputId": "ea58b784-1deb-401a-a744-2a34f97f96fe"
      },
      "execution_count": 16,
      "outputs": [
        {
          "output_type": "stream",
          "name": "stderr",
          "text": [
            "Installing package into ‘/usr/local/lib/R/site-library’\n",
            "(as ‘lib’ is unspecified)\n",
            "\n",
            "Installing package into ‘/usr/local/lib/R/site-library’\n",
            "(as ‘lib’ is unspecified)\n",
            "\n",
            "Installing package into ‘/usr/local/lib/R/site-library’\n",
            "(as ‘lib’ is unspecified)\n",
            "\n",
            "Installing package into ‘/usr/local/lib/R/site-library’\n",
            "(as ‘lib’ is unspecified)\n",
            "\n"
          ]
        }
      ]
    },
    {
      "cell_type": "code",
      "source": [
        "#Load data\n",
        "mnist <- dataset_fashion_mnist()\n",
        "train_images <- mnist$train$x / 255\n",
        "train_labels <- mnist$train$y\n",
        "test_images <- mnist$test$x / 255\n",
        "test_labels <- mnist$test$y"
      ],
      "metadata": {
        "id": "h-kjvWaPHd3U"
      },
      "execution_count": 17,
      "outputs": []
    },
    {
      "cell_type": "markdown",
      "source": [
        "# **Preprocessing the Data**\n",
        "\n",
        "Here is an interpretation of what I did above and below:\n",
        "1. Reshape Images: Convert the 2D images (28x28 pixels) into a 4D tensor format (number_of_images, height, width, channels) to make them suitable for the CNN. Since the images are grayscale, the number of channels is 1.\n",
        "2. Normalize Pixel Values: Scale the pixel values from the range [0, 255] to [0, 1] by dividing by 255. This helps the model learn faster and improves accuracy."
      ],
      "metadata": {
        "id": "3lk3GaGPds46"
      }
    },
    {
      "cell_type": "code",
      "source": [
        "# Reshape images\n",
        "train_images <- array_reshape(train_images, c(nrow(train_images), 28, 28, 1))\n",
        "test_images <- array_reshape(test_images, c(nrow(test_images), 28, 28, 1))"
      ],
      "metadata": {
        "id": "kWtbj-3Jdc3M"
      },
      "execution_count": 18,
      "outputs": []
    },
    {
      "cell_type": "markdown",
      "source": [
        "# **Building the CNN Model**\n",
        "\n",
        "Below is an explanation of the layers and the output\n",
        "\n",
        "1.   Conv2D (32 filters): Detects basic patterns like edges using 32 filters.\n",
        "2.   MaxPooling2D (2x2): Reduces the size of the feature map to focus on key information.\n",
        "3. Conv2D (64 filters): Captures more complex patterns with 64 filters.\n",
        "4. MaxPooling2D (2x2): Further reduces the feature map size for efficiency.\n",
        "5. Flatten: Converts the 2D feature map into a 1D vector for classification.\n",
        "6. Dense (128 units): Fully connected layer for learning abstract representations.\n",
        "7. Output Layer: Dense with 10 neurons for classification (not part of the 6 main layers)"
      ],
      "metadata": {
        "id": "e-4HUW-CeH5b"
      }
    },
    {
      "cell_type": "code",
      "source": [
        "model <- keras_model_sequential()\n",
        "\n",
        "# Add layers to the model using the add() method\n",
        "model$add(layer_conv_2d(filters = 32, kernel_size = c(3, 3), activation = 'relu', input_shape = c(28, 28, 1)))\n",
        "model$add(layer_max_pooling_2d(pool_size = c(2, 2)))\n",
        "model$add(layer_conv_2d(filters = 64, kernel_size = c(3, 3), activation = 'relu'))\n",
        "model$add(layer_max_pooling_2d(pool_size = c(2, 2)))\n",
        "model$add(layer_flatten())\n",
        "model$add(layer_dense(units = 128, activation = 'relu'))\n",
        "model$add(layer_dense(units = 10, activation = 'softmax'))"
      ],
      "metadata": {
        "id": "M2yfTiGeeCF1"
      },
      "execution_count": 19,
      "outputs": []
    },
    {
      "cell_type": "markdown",
      "source": [
        "# **Compiling the Model**\n",
        "\n",
        "Compiling the model comprises of:\n",
        "1. Optimizer: Defines how the model updates its weights during training (e.g., Adam for efficient gradient updates).\n",
        "2. Loss Function: Measures the error between predicted and actual values (e.g., sparse_categorical_crossentropy for multi-class classification).\n",
        "3. Metrics: Defines performance metrics to track (e.g., accuracy to monitor how well the model is classifying)."
      ],
      "metadata": {
        "id": "SxwPOM0ZemIO"
      }
    },
    {
      "cell_type": "code",
      "source": [
        "model %>% compile(\n",
        "  optimizer = 'adam',\n",
        "  loss = 'sparse_categorical_crossentropy',\n",
        "  metrics = c('accuracy')\n",
        ")"
      ],
      "metadata": {
        "id": "PNMj8696eawA"
      },
      "execution_count": 20,
      "outputs": []
    },
    {
      "cell_type": "markdown",
      "source": [
        "# **Make and Show Predictions**\n",
        "\n",
        "1. First Image (Top)\n",
        "\n",
        "* Predicted: 9: The model predicted the image as class 9, which represents an \"Ankle Boot\" in the Fashion MNIST dataset.\n",
        "* True: 9: The true label for this image is class 9, which represents \"Ankle Boot.\"\n",
        "* Observation: The prediction was correct\n",
        "\n",
        "2. Second Image (Bottom)\n",
        "\n",
        "* Predicted: 2: The model predicted the image as class 2, which represents \"Pullover.\"\n",
        "* True: 2: The true label for this image is class 2, which represents a \"Pullover.\"\n",
        "* Observation: The model also made a correct prediction here\n",
        "\n",
        "3. Key Insights:\n",
        "The CNN was fully accurate on these two test images, as both predictions were correct."
      ],
      "metadata": {
        "id": "hqH_adAZf0x4"
      }
    },
    {
      "cell_type": "code",
      "source": [
        "# Train the model\n",
        "model %>% fit(train_images, train_labels, epochs = 10, batch_size = 64)"
      ],
      "metadata": {
        "id": "f2gjGtKmfaEj"
      },
      "execution_count": 21,
      "outputs": []
    },
    {
      "cell_type": "code",
      "source": [
        "# Make predictions\n",
        "predictions <- model %>% predict(test_images[1:2,,,,drop=FALSE])"
      ],
      "metadata": {
        "id": "akroTckFf3qk"
      },
      "execution_count": 22,
      "outputs": []
    },
    {
      "cell_type": "code",
      "source": [
        "# Plot the images along with predictions\n",
        "par(mfrow=c(2, 1))\n",
        "for (i in 1:2) {\n",
        "  image(as.matrix(test_images[i,,,1]), col = gray.colors(256),\n",
        "        main = paste0(\"Predicted: \", which.max(predictions[i,]) - 1, \", True: \", test_labels[i]))\n",
        "}"
      ],
      "metadata": {
        "id": "sYoBA1r2rlyn",
        "colab": {
          "base_uri": "https://localhost:8080/",
          "height": 437
        },
        "outputId": "1791a68b-3e1c-400c-de29-43dadf28ad8f"
      },
      "execution_count": 23,
      "outputs": [
        {
          "output_type": "display_data",
          "data": {
            "text/plain": [
              "Plot with title “Predicted: 2, True: 2”"
            ],
            "image/png": "[encoded data removed]"
          },
          "metadata": {
            "image/png": {
              "width": 420,
              "height": 420
            }
          }
        }
      ]
    },
    {
      "cell_type": "code",
      "source": [],
      "metadata": {
        "id": "6d720V5KOY8R"
      },
      "execution_count": null,
      "outputs": []
    }
  ]
}