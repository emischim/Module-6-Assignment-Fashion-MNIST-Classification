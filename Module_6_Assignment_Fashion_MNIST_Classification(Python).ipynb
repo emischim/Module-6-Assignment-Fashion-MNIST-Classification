{
  "nbformat": 4,
  "nbformat_minor": 0,
  "metadata": {
    "colab": {
      "provenance": []
    },
    "kernelspec": {
      "name": "python3",
      "display_name": "Python 3"
    },
    "language_info": {
      "name": "python"
    }
  },
  "cells": [
    {
      "cell_type": "markdown",
      "source": [
        "# **Loading the Dataset**"
      ],
      "metadata": {
        "id": "kW7xvUzudSM6"
      }
    },
    {
      "cell_type": "code",
      "execution_count": 1,
      "metadata": {
        "colab": {
          "base_uri": "https://localhost:8080/"
        },
        "id": "XPO8PgRYcg8J",
        "outputId": "58e617c6-935f-4214-a754-83172afe60d4"
      },
      "outputs": [
        {
          "output_type": "stream",
          "name": "stdout",
          "text": [
            "Downloading data from https://storage.googleapis.com/tensorflow/tf-keras-datasets/train-labels-idx1-ubyte.gz\n",
            "\u001b[1m29515/29515\u001b[0m \u001b[32m━━━━━━━━━━━━━━━━━━━━\u001b[0m\u001b[37m\u001b[0m \u001b[1m0s\u001b[0m 0us/step\n",
            "Downloading data from https://storage.googleapis.com/tensorflow/tf-keras-datasets/train-images-idx3-ubyte.gz\n",
            "\u001b[1m26421880/26421880\u001b[0m \u001b[32m━━━━━━━━━━━━━━━━━━━━\u001b[0m\u001b[37m\u001b[0m \u001b[1m1s\u001b[0m 0us/step\n",
            "Downloading data from https://storage.googleapis.com/tensorflow/tf-keras-datasets/t10k-labels-idx1-ubyte.gz\n",
            "\u001b[1m5148/5148\u001b[0m \u001b[32m━━━━━━━━━━━━━━━━━━━━\u001b[0m\u001b[37m\u001b[0m \u001b[1m0s\u001b[0m 1us/step\n",
            "Downloading data from https://storage.googleapis.com/tensorflow/tf-keras-datasets/t10k-images-idx3-ubyte.gz\n",
            "\u001b[1m4422102/4422102\u001b[0m \u001b[32m━━━━━━━━━━━━━━━━━━━━\u001b[0m\u001b[37m\u001b[0m \u001b[1m0s\u001b[0m 0us/step\n"
          ]
        }
      ],
      "source": [
        "import numpy as np\n",
        "from tensorflow.keras import datasets, layers, models\n",
        "import matplotlib.pyplot as plt\n",
        "\n",
        "# Here, I am loading the dataset\n",
        "(train_images, train_labels), (test_images, test_labels) = datasets.fashion_mnist.load_data()"
      ]
    },
    {
      "cell_type": "markdown",
      "source": [
        "# **Preprocessing the Data**\n",
        "\n",
        "Here is an interpretation of what I did here:\n",
        "1. Reshape Images: Convert the 2D images (28x28 pixels) into a 4D tensor format (number_of_images, height, width, channels) to make them suitable for the CNN. Since the images are grayscale, the number of channels is 1.\n",
        "2. Normalize Pixel Values: Scale the pixel values from the range [0, 255] to [0, 1] by dividing by 255. This helps the model learn faster and improves accuracy."
      ],
      "metadata": {
        "id": "3lk3GaGPds46"
      }
    },
    {
      "cell_type": "code",
      "source": [
        "# Here, I am preprocessing the data\n",
        "train_images = train_images.reshape((train_images.shape[0], 28, 28, 1)) / 255.0\n",
        "test_images = test_images.reshape((test_images.shape[0], 28, 28, 1)) / 255.0"
      ],
      "metadata": {
        "id": "kWtbj-3Jdc3M"
      },
      "execution_count": 2,
      "outputs": []
    },
    {
      "cell_type": "markdown",
      "source": [
        "# **Building the CNN Model**\n",
        "\n",
        "Below is an explanation of the layers and the output\n",
        "\n",
        "1.   Conv2D (32 filters): Detects basic patterns like edges using 32 filters.\n",
        "2.   MaxPooling2D (2x2): Reduces the size of the feature map to focus on key information.\n",
        "3. Conv2D (64 filters): Captures more complex patterns with 64 filters.\n",
        "4. MaxPooling2D (2x2): Further reduces the feature map size for efficiency.\n",
        "5. Flatten: Converts the 2D feature map into a 1D vector for classification.\n",
        "6. Dense (128 units): Fully connected layer for learning abstract representations.\n",
        "7. Output Layer: Dense with 10 neurons for classification (not part of the 6 main layers)"
      ],
      "metadata": {
        "id": "e-4HUW-CeH5b"
      }
    },
    {
      "cell_type": "code",
      "source": [
        "# Here, I am building the CNN model\n",
        "model = models.Sequential([\n",
        "    layers.Conv2D(32, (3, 3), activation='relu', input_shape=(28, 28, 1)),\n",
        "    layers.MaxPooling2D((2, 2)),\n",
        "    layers.Conv2D(64, (3, 3), activation='relu'),\n",
        "    layers.MaxPooling2D((2, 2)),\n",
        "    layers.Flatten(),\n",
        "    layers.Dense(128, activation='relu'),\n",
        "    layers.Dense(10, activation='softmax')\n",
        "])"
      ],
      "metadata": {
        "id": "M2yfTiGeeCF1"
      },
      "execution_count": 10,
      "outputs": []
    },
    {
      "cell_type": "markdown",
      "source": [
        "# **Compiling the Model**\n",
        "\n",
        "Compiling the model comprises of:\n",
        "1. Optimizer: Defines how the model updates its weights during training (e.g., Adam for efficient gradient updates).\n",
        "2. Loss Function: Measures the error between predicted and actual values (e.g., sparse_categorical_crossentropy for multi-class classification).\n",
        "3. Metrics: Defines performance metrics to track (e.g., accuracy to monitor how well the model is classifying)."
      ],
      "metadata": {
        "id": "SxwPOM0ZemIO"
      }
    },
    {
      "cell_type": "code",
      "source": [
        "# Here, I am compiling the model\n",
        "model.compile(optimizer='adam', loss='sparse_categorical_crossentropy', metrics=['accuracy'])"
      ],
      "metadata": {
        "id": "PNMj8696eawA"
      },
      "execution_count": 11,
      "outputs": []
    },
    {
      "cell_type": "markdown",
      "source": [
        "# **Make and Show Predictions**\n",
        "\n",
        "1. First Image (Top)\n",
        "\n",
        "* Predicted: 9: The model predicted the image as class 9, which represents a \"Ankle Boot\" in the Fashion MNIST dataset.\n",
        "* True: 9: The true label for this image is class 9, which represents \"Ankle Boot.\"\n",
        "* Observation: The prediction was correct\n",
        "\n",
        "2. Second Image (Bottom)\n",
        "\n",
        "* Predicted: 0: The model predicted the image as class 0, which represents \"T-shirt/top\"\n",
        "* True: 2: The true label for this image is class 2, which represents a \"Pullover.\"\n",
        "* Observation: The model made an incorrect prediction here, confusing a pullover with a t-shirt.\n",
        "\n",
        "3. Key Insights:\n",
        "The CNN was not fully accurate on the second image.\n",
        "\n",
        "This could be due to various factors like insufficient training data, suboptimal architecture, or issues with hyperparameter tuning.\n",
        "\n",
        "4. How to improve the model\n",
        "* Data Augmentation: Apply random rotations, flips, and zooms to increase dataset variety.\n",
        "* Increase Filters: Use more filters in the Conv2D layers (e.g., 64 → 128) to capture more detailed patterns.\n",
        "* Add More Layers: Include extra convolutional and pooling layers to deepen the network and learn more complex features.\n",
        "* Batch Normalization: Normalize layer activations to speed up training and improve stability.\n",
        "* Dropout: Add dropout layers to reduce overfitting by randomly turning off neurons during training."
      ],
      "metadata": {
        "id": "hqH_adAZf0x4"
      }
    },
    {
      "cell_type": "code",
      "source": [
        "# Make predictions\n",
        "predictions = model.predict(test_images[:2])\n",
        "\n",
        "# Show the predictions\n",
        "for i in range(2):\n",
        "    plt.imshow(test_images[i].reshape(28, 28), cmap='gray')\n",
        "    plt.title(f'Predicted: {np.argmax(predictions[i])}, True: {test_labels[i]}')\n",
        "    plt.show()"
      ],
      "metadata": {
        "colab": {
          "base_uri": "https://localhost:8080/",
          "height": 904
        },
        "id": "f2gjGtKmfaEj",
        "outputId": "b823fa1b-9776-4670-98e6-98e5df4d658d"
      },
      "execution_count": 12,
      "outputs": [
        {
          "output_type": "stream",
          "name": "stdout",
          "text": [
            "\u001b[1m1/1\u001b[0m \u001b[32m━━━━━━━━━━━━━━━━━━━━\u001b[0m\u001b[37m\u001b[0m \u001b[1m0s\u001b[0m 108ms/step\n"
          ]
        },
        {
          "output_type": "display_data",
          "data": {
            "text/plain": [
              "<Figure size 640x480 with 1 Axes>"
            ],
            "image/png": "[encoded data removed]"
          },
          "metadata": {}
        },
        {
          "output_type": "display_data",
          "data": {
            "text/plain": [
              "<Figure size 640x480 with 1 Axes>"
            ],
            "image/png": "[encoded data removed]"
          },
          "metadata": {}
        }
      ]
    },
    {
      "cell_type": "code",
      "source": [],
      "metadata": {
        "id": "akroTckFf3qk"
      },
      "execution_count": null,
      "outputs": []
    }
  ]
}